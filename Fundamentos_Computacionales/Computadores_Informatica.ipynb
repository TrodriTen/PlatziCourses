{
 "cells": [
  {
   "cell_type": "markdown",
   "id": "a084d34a-a219-468f-aad8-3242ec67ecb2",
   "metadata": {},
   "source": [
    "# Curso computadores e informatica"
   ]
  },
  {
   "cell_type": "markdown",
   "id": "22a8322c-8ff8-4579-9f08-e86f2f442314",
   "metadata": {},
   "source": [
    "### Hardware\n",
    "+ Esta dividio en varios componenetes\n",
    "  * GPU\n",
    "  * CPU\n",
    "  * Almacenamiento\n",
    "  * Memoria RAM\n",
    "  * Tipo de Pantalla\n",
    "+ ***CPU***:\n",
    "  * Es el cerebro de la maquina\n",
    "  * Quien se encarga de administrar recursos\n",
    "+ ***GPU***:\n",
    "  * Es como la CPU de la parte grafica\n",
    "  * Se encarga del procesamiento de los graficos\n",
    "+ ***Memoria RAM***:\n",
    "  * Guarda la informacion de manera temporal\n",
    "+ ***Almacenamiento***:\n",
    "  * Guarda la informacion de manera permamente\n",
    "\n",
    "### Software\n",
    "+ Son los programas que utiliza la computadora:\n",
    "  * Chrome\n",
    "  * VsCode\n",
    "  * Juegos de video\n",
    "\n",
    "### Seguridad Informatica\n",
    "+ Hay distintos tipos de virus:\n",
    "  * De gusano\n",
    "  * Adware\n",
    "  * Spyware\n",
    "  * Ransomware\n",
    "  * Troyanos\n",
    "  * Botnet"
   ]
  }
 ],
 "metadata": {
  "kernelspec": {
   "display_name": "Python 3 (ipykernel)",
   "language": "python",
   "name": "python3"
  },
  "language_info": {
   "codemirror_mode": {
    "name": "ipython",
    "version": 3
   },
   "file_extension": ".py",
   "mimetype": "text/x-python",
   "name": "python",
   "nbconvert_exporter": "python",
   "pygments_lexer": "ipython3",
   "version": "3.12.7"
  }
 },
 "nbformat": 4,
 "nbformat_minor": 5
}
