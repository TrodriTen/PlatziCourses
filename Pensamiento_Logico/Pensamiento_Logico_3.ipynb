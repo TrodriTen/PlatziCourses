{
 "cells": [
  {
   "cell_type": "markdown",
   "id": "14160b8f-c1a6-4a9c-b874-ce674a52ece3",
   "metadata": {},
   "source": [
    "# Lenguajes de programacion"
   ]
  },
  {
   "cell_type": "markdown",
   "id": "468badb2-ece6-4344-b3f7-b810031f518e",
   "metadata": {},
   "source": [
    "## Lenguajes\n",
    "\n",
    "- `JavaScript`:\n",
    "  + Creacion de paginas web\n",
    "  + Presentacion usuario final\n",
    "- `Python`:\n",
    "  + Desarrollo Backend\n",
    "  + Programacion videojuegos\n",
    "- `PHP`: Conjunto con HTML, CSS y JavaScript"
   ]
  }
 ],
 "metadata": {
  "kernelspec": {
   "display_name": "Python 3 (ipykernel)",
   "language": "python",
   "name": "python3"
  },
  "language_info": {
   "codemirror_mode": {
    "name": "ipython",
    "version": 3
   },
   "file_extension": ".py",
   "mimetype": "text/x-python",
   "name": "python",
   "nbconvert_exporter": "python",
   "pygments_lexer": "ipython3",
   "version": "3.12.7"
  }
 },
 "nbformat": 4,
 "nbformat_minor": 5
}
