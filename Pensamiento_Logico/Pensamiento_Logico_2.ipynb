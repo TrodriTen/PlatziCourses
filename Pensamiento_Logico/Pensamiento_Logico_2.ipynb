{
 "cells": [
  {
   "cell_type": "markdown",
   "id": "37f52cef-a288-4bfd-903a-ca14431029a7",
   "metadata": {},
   "source": [
    "# Manejo de datos, Estructuras y funciones"
   ]
  },
  {
   "cell_type": "markdown",
   "id": "e5f0c694-0174-4228-be8e-3c26fc239d42",
   "metadata": {},
   "source": [
    "## Tipos de dato\n",
    "- `Char`: Es un caracter de texto\n",
    "- `String`: Es un texto\n",
    "- `Numerico`: int, Long, double, float\n",
    "- `Boolean`: True o False\n",
    "- `Arrays`: Listas de datos multiples (Estructura de datos)"
   ]
  },
  {
   "cell_type": "markdown",
   "id": "79968016-6b49-4aa6-b46c-47354fed5c6f",
   "metadata": {},
   "source": [
    "## Estructuras de control\n",
    "- `Condicionales`: Tomar desiciones con base a comparaciones u operaciones\n",
    "- `Ciclos`: Realizar iteraciones con base a una condicion o situacion\n",
    "### Tipos de Condicionales\n",
    "- `If/Else-If/Else`: Se usan en respuestas de True y False (1,0)\n",
    "- `Switch`: Evalua diferentes casos sobre una comparacion o una situacion especifica\n",
    "- `Try-Catch`: Se usa en el manejo de errores y permite tener un plan B en caso de algun fallo\n",
    "### Tipos de Ciclos\n",
    "- `For`: Recorrido de diferentes iteraciones de acuerdo a una cantidad de iteraciones necesarias y una condicion\n",
    "- `While`: Mientras una situacion se cumpla se ejecutan las instrucciones\n",
    "- `Do-While`: Primero ejecuta las instrucciones y despues revisa si la condicion se cumple y vuelve a ejecutar"
   ]
  },
  {
   "cell_type": "markdown",
   "id": "2a3b42e3-8b13-4335-bc5f-306ed8d4a6de",
   "metadata": {},
   "source": [
    "## Funciones\n",
    "- Son bloques de instrucciones quue hacen una actividad en concreto\n",
    "- Partes de una funcion:\n",
    "  + Parametros (Entradas)\n",
    "  + Instrucciones\n",
    "  + Retorno o resultado\n",
    "- Alcance:\n",
    "  + `Privadas`:\n",
    "    * Funcionan en forma local\n",
    "    * Otros algoritmos no pueden acceder a estas\n",
    "  + `Publicas`:\n",
    "    * Alcance global\n",
    "    * Otros algoritmos pueden usarlas"
   ]
  }
 ],
 "metadata": {
  "kernelspec": {
   "display_name": "Python 3 (ipykernel)",
   "language": "python",
   "name": "python3"
  },
  "language_info": {
   "codemirror_mode": {
    "name": "ipython",
    "version": 3
   },
   "file_extension": ".py",
   "mimetype": "text/x-python",
   "name": "python",
   "nbconvert_exporter": "python",
   "pygments_lexer": "ipython3",
   "version": "3.12.7"
  }
 },
 "nbformat": 4,
 "nbformat_minor": 5
}
